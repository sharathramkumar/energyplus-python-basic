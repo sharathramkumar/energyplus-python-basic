{
 "cells": [
  {
   "cell_type": "markdown",
   "metadata": {},
   "source": [
    "In this notebook, we demonstrate how EnergyPlus can be used as a library within Python, so that a running simulation can be controlled by a Python script\n",
    "\n",
    "Pre-requisites: \n",
    "1. EnergyPlus v22.2 (any version >9.6 should work, must have Python API)\n",
    "2. An idf file describing the building"
   ]
  },
  {
   "cell_type": "code",
   "execution_count": 1,
   "metadata": {},
   "outputs": [],
   "source": [
    "# Import the EnergyPlus Library\n",
    "import sys, os\n",
    "from shutil import rmtree\n",
    "sys.path.insert(0, 'E:/EnergyPlusV22-2-0/') # Point to E+ installation directory\n",
    "\n",
    "from pyenergyplus.api import EnergyPlusAPI\n",
    "api = EnergyPlusAPI() # This handler now co-ordinates all the E+ related stuff\n",
    "\n",
    "import pandas as pd # For reporting\n",
    "from numpy.random import normal"
   ]
  },
  {
   "cell_type": "code",
   "execution_count": 2,
   "metadata": {},
   "outputs": [],
   "source": [
    "# Setup the inputs and directories\n",
    "idf_file = os.path.realpath(\"./Example Building/AdultEducationCenter.idf\") # 1-zone building with an ideal loads air system\n",
    "weather_file = os.path.realpath(\"./Example Building/USA_IL_Chicago-OHare.Intl.AP.725300_TMY3.epw\")\n",
    "\n",
    "output_dir = os.path.join(os.getcwd(),\"DemonstrationOutputs\")\n",
    "rmtree(output_dir, ignore_errors=True)"
   ]
  },
  {
   "cell_type": "code",
   "execution_count": 3,
   "metadata": {},
   "outputs": [],
   "source": [
    "# Define callbacks which only do reporting (ie, no modifications)\n",
    "class NoModificationCallbacks:\n",
    "    def __init__(self, api, state, output_dir, debug=True):\n",
    "        self.out_dir = output_dir\n",
    "        self.api = api\n",
    "        self.state = state\n",
    "        self.debug = debug\n",
    "        self.get_handles(state)\n",
    "        self.data = {kk:[] for kk in self.handles}\n",
    "        self.data.update({'CurrTime':[], 'DayOfYear':[]})\n",
    "        self.register_callbacks()\n",
    "        \n",
    "    # Zone,Average,Zone Mean Air Temperature [C]    \n",
    "    def get_handles(self, state):\n",
    "        # Get handles to the outdoor temperature, the thermostat setpoint, Electricity, Heating and Cooling\n",
    "        s = state\n",
    "        # Variables can be looked up from the .rdd file, meters from .mdd and actuators from .edd\n",
    "        self.handles = dict(\n",
    "            OutdoorTemp=self.api.exchange.get_variable_handle(s, \"Site Outdoor Air Drybulb Temperature\", \"Environment\"),\n",
    "            ZoneTemp=self.api.exchange.get_variable_handle(s, \"Zone Air Temperature\", \"FULL BUILDING - 1 ZONE\"),\n",
    "            ThermostatSetpoint=self.api.exchange.get_actuator_handle(s, \"System Node Setpoint\", \"Temperature Setpoint\", \"FULL BUILDING - 1 ZONE ZONE AIR NODE\"),\n",
    "            ElectricityMeter=self.api.exchange.get_meter_handle(s, \"Electricity:Building\"),\n",
    "            HeatingLoad=self.api.exchange.get_meter_handle(s, \"DistrictHeating:Facility\"),\n",
    "            CoolingLoad=self.api.exchange.get_meter_handle(s, \"DistrictCooling:Facility\"),\n",
    "        )\n",
    "        if self.debug:\n",
    "            pass\n",
    "        #    print(\"==Handles==\\n\\n\", self.handles)\n",
    "\n",
    "    def on_end_step(self, state):\n",
    "        # In this example, we query some parameters from the simulation at every time step\n",
    "        # Make sure warm-up is complete\n",
    "        if self.api.exchange.warmup_flag(state):\n",
    "            return\n",
    "        self.get_handles(state)\n",
    "        s = state\n",
    "        self.data[\"CurrTime\"].append(self.api.exchange.current_time(s))\n",
    "        self.data[\"DayOfYear\"].append(self.api.exchange.day_of_year(s))\n",
    "        self.data[\"OutdoorTemp\"].append(self.api.exchange.get_variable_value(s, self.handles[\"OutdoorTemp\"]))\n",
    "        self.data[\"ZoneTemp\"].append(self.api.exchange.get_variable_value(s, self.handles[\"ZoneTemp\"]))\n",
    "        self.data[\"ThermostatSetpoint\"].append(self.api.exchange.get_actuator_value(s, self.handles[\"ThermostatSetpoint\"]))\n",
    "        self.data[\"ElectricityMeter\"].append(self.api.exchange.get_meter_value(s, self.handles[\"ElectricityMeter\"]))\n",
    "        self.data[\"HeatingLoad\"].append(self.api.exchange.get_meter_value(s, self.handles[\"HeatingLoad\"]))\n",
    "        self.data[\"CoolingLoad\"].append(self.api.exchange.get_meter_value(s, self.handles[\"CoolingLoad\"]))\n",
    "\n",
    "    def on_end_sim(self):\n",
    "        # We consolidate the data into a dataframe and write a csv output\n",
    "        df = pd.DataFrame.from_dict(self.data)\n",
    "        df.to_excel(os.path.join(self.out_dir, \"CustomReport.xlsx\"))\n",
    "\n",
    "    def register_callbacks(self):\n",
    "        # Here, we register the callbacks so that the API calls them at the appropriate time\n",
    "        self.api.runtime.callback_end_system_timestep_after_hvac_reporting(self.state, self.on_end_step)"
   ]
  },
  {
   "cell_type": "code",
   "execution_count": 4,
   "metadata": {},
   "outputs": [
    {
     "name": "stdout",
     "output_type": "stream",
     "text": [
      "Unmodified run completed with status 0\n"
     ]
    }
   ],
   "source": [
    "# Make a run without any modifications\n",
    "output_dir_no_modifications = os.path.join(output_dir, \"NoModifications\")\n",
    "\n",
    "state = api.state_manager.new_state() \n",
    "api.state_manager.reset_state(state)\n",
    "api.runtime.set_console_output_status(state,1) # Generates .err files for debug\n",
    "\n",
    "# Register Callbacks for no modifications run\n",
    "callbacks = NoModificationCallbacks(api, state, output_dir_no_modifications)\n",
    "\n",
    "run_status = api.runtime.run_energyplus(state, [\"-d\", output_dir_no_modifications, \"-w\", weather_file, idf_file])\n",
    "\n",
    "print(\"Unmodified run completed with status\", run_status)\n",
    "callbacks.on_end_sim()"
   ]
  },
  {
   "cell_type": "code",
   "execution_count": 5,
   "metadata": {},
   "outputs": [],
   "source": [
    "# Now, define the callbacks as per requirement\n",
    "# For example, here we set the value of the temperature setpoint to be equal to the time of day\n",
    "class WithModificationCallbacks:\n",
    "    def __init__(self, api, state, output_dir, debug=True):\n",
    "        self.out_dir = output_dir\n",
    "        self.api = api\n",
    "        self.state = state\n",
    "        self.debug = debug\n",
    "        self.printonce = True\n",
    "        self.get_handles(state)\n",
    "        self.data = {kk:[] for kk in self.handles}\n",
    "        self.data.update({'CurrTime':[], 'DayOfYear':[]})\n",
    "        self.register_callbacks()\n",
    "        \n",
    "    def get_handles(self, state):\n",
    "        # Get handles to the outdoor temperature, the thermostat setpoint, Electricity, Heating and Cooling\n",
    "        s = state\n",
    "        # Variables can be looked up from the .rdd file, meters from .mdd and actuators from .edd\n",
    "        self.handles = dict(\n",
    "            OutdoorTemp=self.api.exchange.get_variable_handle(s, \"Site Outdoor Air Drybulb Temperature\", \"Environment\"),\n",
    "            ZoneTemp=self.api.exchange.get_variable_handle(s, \"Zone Air Temperature\", \"FULL BUILDING - 1 ZONE\"),\n",
    "            ThermostatSetpoint=self.api.exchange.get_actuator_handle(s, \"System Node Setpoint\", \"Temperature Setpoint\", \"FULL BUILDING - 1 ZONE ZONE AIR NODE\"),\n",
    "            ElectricityMeter=self.api.exchange.get_meter_handle(s, \"Electricity:Building\"),\n",
    "            HeatingLoad=self.api.exchange.get_meter_handle(s, \"DistrictHeating:Facility\"),\n",
    "            CoolingLoad=self.api.exchange.get_meter_handle(s, \"DistrictCooling:Facility\"),\n",
    "        )\n",
    "        if self.debug:\n",
    "            pass\n",
    "        #    print(\"==Handles==\\n\\n\", self.handles)\n",
    "\n",
    "    def on_start_step(self, state):\n",
    "        # Need to do it this way, as Node temperatures cannot be changed using set_actuator_value function (apparently)\n",
    "        hot_thermostat = self.api.exchange.get_actuator_handle(state, \"Zone Temperature Control\", \"Heating Setpoint\", \"FULL BUILDING - 1 ZONE\")\n",
    "        cool_thermostat = self.api.exchange.get_actuator_handle(state, \"Zone Temperature Control\", \"Cooling Setpoint\", \"FULL BUILDING - 1 ZONE\")\n",
    "        # Induce a sudden change in the setpoint\n",
    "        current_time = self.api.exchange.current_time(state)\n",
    "        next_setpoint_delta = 0 if current_time < 12 else -10\n",
    "        self.api.exchange.set_actuator_value(state, hot_thermostat, 15.0 + next_setpoint_delta)\n",
    "        self.api.exchange.set_actuator_value(state, cool_thermostat, 25.0 + next_setpoint_delta)\n",
    "\n",
    "    def on_end_step(self, state):\n",
    "        # In this example, we query some parameters from the simulation at every time step\n",
    "        if self.api.exchange.warmup_flag(state):\n",
    "            return\n",
    "        self.get_handles(state)\n",
    "        s = state\n",
    "        self.data[\"CurrTime\"].append(self.api.exchange.current_time(s))\n",
    "        self.data[\"DayOfYear\"].append(self.api.exchange.day_of_year(s))\n",
    "        self.data[\"OutdoorTemp\"].append(self.api.exchange.get_variable_value(s, self.handles[\"OutdoorTemp\"]))\n",
    "        self.data[\"ZoneTemp\"].append(self.api.exchange.get_variable_value(s, self.handles[\"ZoneTemp\"]))\n",
    "        self.data[\"ThermostatSetpoint\"].append(self.api.exchange.get_actuator_value(s, self.handles[\"ThermostatSetpoint\"]))\n",
    "        self.data[\"ElectricityMeter\"].append(self.api.exchange.get_meter_value(s, self.handles[\"ElectricityMeter\"]))\n",
    "        self.data[\"HeatingLoad\"].append(self.api.exchange.get_meter_value(s, self.handles[\"HeatingLoad\"]))\n",
    "        self.data[\"CoolingLoad\"].append(self.api.exchange.get_meter_value(s, self.handles[\"CoolingLoad\"]))\n",
    "\n",
    "    def on_end_sim(self): # For now, this is called manually\n",
    "        # We consolidate the data into a dataframe and write a csv output\n",
    "        df = pd.DataFrame.from_dict(self.data)\n",
    "        df.to_excel(os.path.join(self.out_dir, \"CustomReport.xlsx\"))\n",
    "\n",
    "    def register_callbacks(self):\n",
    "        # Here, we register the callbacks so that the API calls them at the appropriate time\n",
    "        #self.api.runtime.callback_begin_system_timestep_before_predictor(self.state, self.on_start_step)\n",
    "        self.api.runtime.callback_after_predictor_before_hvac_managers(self.state, self.on_start_step)\n",
    "        self.api.runtime.callback_end_system_timestep_after_hvac_reporting(self.state, self.on_end_step)"
   ]
  },
  {
   "cell_type": "code",
   "execution_count": 6,
   "metadata": {},
   "outputs": [
    {
     "name": "stdout",
     "output_type": "stream",
     "text": [
      "Modified run completed with status 0\n"
     ]
    }
   ],
   "source": [
    "# Make a run with modifications\n",
    "output_dir_with_modifications = os.path.join(output_dir, \"WithModifications\")\n",
    "\n",
    "state = api.state_manager.new_state() \n",
    "api.state_manager.reset_state(state)\n",
    "api.runtime.set_console_output_status(state,1) # Generates .err files for debug\n",
    "\n",
    "# Register Callbacks for no modifications run\n",
    "callbacks = WithModificationCallbacks(api, state, output_dir_with_modifications)\n",
    "\n",
    "run_status = api.runtime.run_energyplus(state, [\"-d\", output_dir_with_modifications, \"-w\", weather_file, idf_file])\n",
    "\n",
    "print(\"Modified run completed with status\", run_status)\n",
    "callbacks.on_end_sim()"
   ]
  }
 ],
 "metadata": {
  "kernelspec": {
   "display_name": "Python 3.9.12 ('citylearn22')",
   "language": "python",
   "name": "python3"
  },
  "language_info": {
   "codemirror_mode": {
    "name": "ipython",
    "version": 3
   },
   "file_extension": ".py",
   "mimetype": "text/x-python",
   "name": "python",
   "nbconvert_exporter": "python",
   "pygments_lexer": "ipython3",
   "version": "3.9.12"
  },
  "orig_nbformat": 4,
  "vscode": {
   "interpreter": {
    "hash": "5c79fb1a32d8bed2ab977c6216d187b97f663d3d952f2db12653fc2cf070d101"
   }
  }
 },
 "nbformat": 4,
 "nbformat_minor": 2
}
